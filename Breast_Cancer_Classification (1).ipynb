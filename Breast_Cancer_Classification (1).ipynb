{
  "nbformat": 4,
  "nbformat_minor": 0,
  "metadata": {
    "colab": {
      "provenance": []
    },
    "kernelspec": {
      "name": "python3",
      "display_name": "Python 3"
    },
    "language_info": {
      "name": "python"
    }
  },
  "cells": [
    {
      "cell_type": "markdown",
      "source": [
        "Importing all the Dependencies."
      ],
      "metadata": {
        "id": "Gm4S42rv2Puo"
      }
    },
    {
      "cell_type": "code",
      "source": [
        "import numpy as np\n",
        "import pandas as pd\n",
        "import sklearn.datasets\n",
        "from sklearn.model_selection  import train_test_split\n",
        "from sklearn.linear_model import LogisticRegression\n",
        "from sklearn.metrics import accuracy_score"
      ],
      "metadata": {
        "id": "n5i4A5pR2d2m"
      },
      "execution_count": null,
      "outputs": []
    },
    {
      "cell_type": "markdown",
      "source": [
        "Collection and Preprocessing of the Data"
      ],
      "metadata": {
        "id": "4x9Gx07uPx2v"
      }
    },
    {
      "cell_type": "code",
      "source": [
        "# data loading from sklearn\n",
        "breast_cancer_dataset = sklearn.datasets.load_breast_cancer()"
      ],
      "metadata": {
        "id": "6LLkH7g_QnpW"
      },
      "execution_count": null,
      "outputs": []
    },
    {
      "cell_type": "code",
      "source": [
        "print(breast_cancer_dataset)"
      ],
      "metadata": {
        "id": "GbxaycAt0N79"
      },
      "execution_count": null,
      "outputs": []
    },
    {
      "cell_type": "code",
      "source": [
        "# providing a data frame to the data\n",
        "d_f= pd.DataFrame(breast_cancer_dataset.data, columns = breast_cancer_dataset.feature_names)\n",
        "\n",
        "# adding the target column\n",
        "d_f[\"category\"] = breast_cancer_dataset.target"
      ],
      "metadata": {
        "id": "ceNi7TIW2hFZ"
      },
      "execution_count": null,
      "outputs": []
    },
    {
      "cell_type": "code",
      "source": [
        "# printing the first 5 rows of the data\n",
        "d_f.head(25)"
      ],
      "metadata": {
        "id": "8OUkbMBK1SPs"
      },
      "execution_count": null,
      "outputs": []
    }
  ]
}